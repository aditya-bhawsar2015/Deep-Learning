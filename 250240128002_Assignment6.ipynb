{
 "cells": [
  {
   "cell_type": "markdown",
   "metadata": {
    "id": "IViLlGjLCUUC"
   },
   "source": [
    "### Name - Aditya Bhawsar\n",
    "### PRN - 250240128002"
   ]
  },
  {
   "cell_type": "markdown",
   "metadata": {
    "id": "eDPIUR1KYTKv"
   },
   "source": [
    "## 1. Import Statements\n",
    "Import all the libraries."
   ]
  },
  {
   "cell_type": "code",
   "execution_count": null,
   "metadata": {
    "id": "zI5MYN2QYTKv"
   },
   "outputs": [],
   "source": [
    "###-----------------\n",
    "### Import Libraries\n",
    "###-----------------\n",
    "\n",
    "import os\n",
    "import time\n",
    "import numpy as np\n",
    "import pandas as pd\n",
    "\n",
    "from tqdm import tqdm, trange\n",
    "\n",
    "import torch\n",
    "import torch.nn as nn\n",
    "import torch.nn.functional as F\n",
    "from torch.autograd import Variable\n",
    "from torchvision import datasets\n",
    "from torchvision.transforms import v2\n",
    "from torchsummary import summary\n",
    "from torch.utils.data import Dataset, DataLoader\n",
    "\n",
    "import matplotlib.pyplot as plt\n",
    "\n",
    "from sklearn.metrics import confusion_matrix, classification_report, ConfusionMatrixDisplay, accuracy_score\n",
    "\n",
    "import matplotlib.pyplot as plt\n",
    "\n",
    "# from utils.torch_helper import fn_plot_torch_hist, fn_plot_confusion_matrix"
   ]
  },
  {
   "cell_type": "code",
   "execution_count": null,
   "metadata": {
    "id": "Bn_qWAiWYTKw"
   },
   "outputs": [],
   "source": [
    "###------------------\n",
    "### Global Parameters\n",
    "###------------------\n",
    "RANDOM_STATE = 24\n",
    "np.random.seed(RANDOM_STATE)\n",
    "torch.manual_seed(RANDOM_STATE)\n",
    "\n",
    "\n",
    "# TEST_SIZE  = 0.2 # Size of test data\n",
    "ALPHA = 0.001\n",
    "EPOCHS = 50\n",
    "WEIGHT_DECAY = 0.001\n",
    "BATCH_SIZE = 16\n",
    "\n",
    "PATIENCE = 20\n",
    "LR_FACTOR = 0.1\n",
    "LR_PATIENCE = 10\n",
    "# LR_MIN = 1e-6\n",
    "\n",
    "IMG_HEIGHT = 32\n",
    "IMG_WIDTH = 32\n",
    "EPSILON = 1e-8 #minimum difference\n",
    "# parameters for Matplotlib\n",
    "params = {'legend.fontsize': 'medium',\n",
    "          'figure.figsize': (15, 6),\n",
    "          'axes.labelsize': 'large',\n",
    "          'axes.titlesize':'large',\n",
    "          'xtick.labelsize':'medium',\n",
    "          'ytick.labelsize':'medium'\n",
    "         }\n",
    "\n",
    "CMAP = plt.cm.jet\n",
    "\n",
    "plt.rcParams.update(params)"
   ]
  },
  {
   "cell_type": "code",
   "execution_count": null,
   "metadata": {
    "colab": {
     "base_uri": "https://localhost:8080/",
     "height": 236
    },
    "executionInfo": {
     "elapsed": 4853,
     "status": "ok",
     "timestamp": 1748769274265,
     "user": {
      "displayName": "Abhinav Pandey",
      "userId": "18226273223427787507"
     },
     "user_tz": -330
    },
    "id": "TEf5RtVRYTKx",
    "outputId": "1529d9fe-1f5f-4bd4-aaa7-a355fc8a537f"
   },
   "outputs": [
    {
     "data": {
      "application/vnd.google.colaboratory.intrinsic+json": {
       "type": "dataframe",
       "variable_name": "train_df"
      },
      "text/html": [
       "\n",
       "  <div id=\"df-bc548157-4c88-4227-bb67-061e47e5d4f2\" class=\"colab-df-container\">\n",
       "    <div>\n",
       "<style scoped>\n",
       "    .dataframe tbody tr th:only-of-type {\n",
       "        vertical-align: middle;\n",
       "    }\n",
       "\n",
       "    .dataframe tbody tr th {\n",
       "        vertical-align: top;\n",
       "    }\n",
       "\n",
       "    .dataframe thead th {\n",
       "        text-align: right;\n",
       "    }\n",
       "</style>\n",
       "<table border=\"1\" class=\"dataframe\">\n",
       "  <thead>\n",
       "    <tr style=\"text-align: right;\">\n",
       "      <th></th>\n",
       "      <th>label</th>\n",
       "      <th>pixel1</th>\n",
       "      <th>pixel2</th>\n",
       "      <th>pixel3</th>\n",
       "      <th>pixel4</th>\n",
       "      <th>pixel5</th>\n",
       "      <th>pixel6</th>\n",
       "      <th>pixel7</th>\n",
       "      <th>pixel8</th>\n",
       "      <th>pixel9</th>\n",
       "      <th>...</th>\n",
       "      <th>pixel775</th>\n",
       "      <th>pixel776</th>\n",
       "      <th>pixel777</th>\n",
       "      <th>pixel778</th>\n",
       "      <th>pixel779</th>\n",
       "      <th>pixel780</th>\n",
       "      <th>pixel781</th>\n",
       "      <th>pixel782</th>\n",
       "      <th>pixel783</th>\n",
       "      <th>pixel784</th>\n",
       "    </tr>\n",
       "  </thead>\n",
       "  <tbody>\n",
       "    <tr>\n",
       "      <th>0</th>\n",
       "      <td>2</td>\n",
       "      <td>0</td>\n",
       "      <td>0</td>\n",
       "      <td>0</td>\n",
       "      <td>0</td>\n",
       "      <td>0</td>\n",
       "      <td>0</td>\n",
       "      <td>0</td>\n",
       "      <td>0</td>\n",
       "      <td>0</td>\n",
       "      <td>...</td>\n",
       "      <td>0</td>\n",
       "      <td>0</td>\n",
       "      <td>0</td>\n",
       "      <td>0</td>\n",
       "      <td>0</td>\n",
       "      <td>0</td>\n",
       "      <td>0</td>\n",
       "      <td>0</td>\n",
       "      <td>0</td>\n",
       "      <td>0</td>\n",
       "    </tr>\n",
       "    <tr>\n",
       "      <th>1</th>\n",
       "      <td>9</td>\n",
       "      <td>0</td>\n",
       "      <td>0</td>\n",
       "      <td>0</td>\n",
       "      <td>0</td>\n",
       "      <td>0</td>\n",
       "      <td>0</td>\n",
       "      <td>0</td>\n",
       "      <td>0</td>\n",
       "      <td>0</td>\n",
       "      <td>...</td>\n",
       "      <td>0</td>\n",
       "      <td>0</td>\n",
       "      <td>0</td>\n",
       "      <td>0</td>\n",
       "      <td>0</td>\n",
       "      <td>0</td>\n",
       "      <td>0</td>\n",
       "      <td>0</td>\n",
       "      <td>0</td>\n",
       "      <td>0</td>\n",
       "    </tr>\n",
       "    <tr>\n",
       "      <th>2</th>\n",
       "      <td>6</td>\n",
       "      <td>0</td>\n",
       "      <td>0</td>\n",
       "      <td>0</td>\n",
       "      <td>0</td>\n",
       "      <td>0</td>\n",
       "      <td>0</td>\n",
       "      <td>0</td>\n",
       "      <td>5</td>\n",
       "      <td>0</td>\n",
       "      <td>...</td>\n",
       "      <td>0</td>\n",
       "      <td>0</td>\n",
       "      <td>0</td>\n",
       "      <td>30</td>\n",
       "      <td>43</td>\n",
       "      <td>0</td>\n",
       "      <td>0</td>\n",
       "      <td>0</td>\n",
       "      <td>0</td>\n",
       "      <td>0</td>\n",
       "    </tr>\n",
       "    <tr>\n",
       "      <th>3</th>\n",
       "      <td>0</td>\n",
       "      <td>0</td>\n",
       "      <td>0</td>\n",
       "      <td>0</td>\n",
       "      <td>1</td>\n",
       "      <td>2</td>\n",
       "      <td>0</td>\n",
       "      <td>0</td>\n",
       "      <td>0</td>\n",
       "      <td>0</td>\n",
       "      <td>...</td>\n",
       "      <td>3</td>\n",
       "      <td>0</td>\n",
       "      <td>0</td>\n",
       "      <td>0</td>\n",
       "      <td>0</td>\n",
       "      <td>1</td>\n",
       "      <td>0</td>\n",
       "      <td>0</td>\n",
       "      <td>0</td>\n",
       "      <td>0</td>\n",
       "    </tr>\n",
       "    <tr>\n",
       "      <th>4</th>\n",
       "      <td>3</td>\n",
       "      <td>0</td>\n",
       "      <td>0</td>\n",
       "      <td>0</td>\n",
       "      <td>0</td>\n",
       "      <td>0</td>\n",
       "      <td>0</td>\n",
       "      <td>0</td>\n",
       "      <td>0</td>\n",
       "      <td>0</td>\n",
       "      <td>...</td>\n",
       "      <td>0</td>\n",
       "      <td>0</td>\n",
       "      <td>0</td>\n",
       "      <td>0</td>\n",
       "      <td>0</td>\n",
       "      <td>0</td>\n",
       "      <td>0</td>\n",
       "      <td>0</td>\n",
       "      <td>0</td>\n",
       "      <td>0</td>\n",
       "    </tr>\n",
       "  </tbody>\n",
       "</table>\n",
       "<p>5 rows × 785 columns</p>\n",
       "</div>\n",
       "    <div class=\"colab-df-buttons\">\n",
       "\n",
       "  <div class=\"colab-df-container\">\n",
       "    <button class=\"colab-df-convert\" onclick=\"convertToInteractive('df-bc548157-4c88-4227-bb67-061e47e5d4f2')\"\n",
       "            title=\"Convert this dataframe to an interactive table.\"\n",
       "            style=\"display:none;\">\n",
       "\n",
       "  <svg xmlns=\"http://www.w3.org/2000/svg\" height=\"24px\" viewBox=\"0 -960 960 960\">\n",
       "    <path d=\"M120-120v-720h720v720H120Zm60-500h600v-160H180v160Zm220 220h160v-160H400v160Zm0 220h160v-160H400v160ZM180-400h160v-160H180v160Zm440 0h160v-160H620v160ZM180-180h160v-160H180v160Zm440 0h160v-160H620v160Z\"/>\n",
       "  </svg>\n",
       "    </button>\n",
       "\n",
       "  <style>\n",
       "    .colab-df-container {\n",
       "      display:flex;\n",
       "      gap: 12px;\n",
       "    }\n",
       "\n",
       "    .colab-df-convert {\n",
       "      background-color: #E8F0FE;\n",
       "      border: none;\n",
       "      border-radius: 50%;\n",
       "      cursor: pointer;\n",
       "      display: none;\n",
       "      fill: #1967D2;\n",
       "      height: 32px;\n",
       "      padding: 0 0 0 0;\n",
       "      width: 32px;\n",
       "    }\n",
       "\n",
       "    .colab-df-convert:hover {\n",
       "      background-color: #E2EBFA;\n",
       "      box-shadow: 0px 1px 2px rgba(60, 64, 67, 0.3), 0px 1px 3px 1px rgba(60, 64, 67, 0.15);\n",
       "      fill: #174EA6;\n",
       "    }\n",
       "\n",
       "    .colab-df-buttons div {\n",
       "      margin-bottom: 4px;\n",
       "    }\n",
       "\n",
       "    [theme=dark] .colab-df-convert {\n",
       "      background-color: #3B4455;\n",
       "      fill: #D2E3FC;\n",
       "    }\n",
       "\n",
       "    [theme=dark] .colab-df-convert:hover {\n",
       "      background-color: #434B5C;\n",
       "      box-shadow: 0px 1px 3px 1px rgba(0, 0, 0, 0.15);\n",
       "      filter: drop-shadow(0px 1px 2px rgba(0, 0, 0, 0.3));\n",
       "      fill: #FFFFFF;\n",
       "    }\n",
       "  </style>\n",
       "\n",
       "    <script>\n",
       "      const buttonEl =\n",
       "        document.querySelector('#df-bc548157-4c88-4227-bb67-061e47e5d4f2 button.colab-df-convert');\n",
       "      buttonEl.style.display =\n",
       "        google.colab.kernel.accessAllowed ? 'block' : 'none';\n",
       "\n",
       "      async function convertToInteractive(key) {\n",
       "        const element = document.querySelector('#df-bc548157-4c88-4227-bb67-061e47e5d4f2');\n",
       "        const dataTable =\n",
       "          await google.colab.kernel.invokeFunction('convertToInteractive',\n",
       "                                                    [key], {});\n",
       "        if (!dataTable) return;\n",
       "\n",
       "        const docLinkHtml = 'Like what you see? Visit the ' +\n",
       "          '<a target=\"_blank\" href=https://colab.research.google.com/notebooks/data_table.ipynb>data table notebook</a>'\n",
       "          + ' to learn more about interactive tables.';\n",
       "        element.innerHTML = '';\n",
       "        dataTable['output_type'] = 'display_data';\n",
       "        await google.colab.output.renderOutput(dataTable, element);\n",
       "        const docLink = document.createElement('div');\n",
       "        docLink.innerHTML = docLinkHtml;\n",
       "        element.appendChild(docLink);\n",
       "      }\n",
       "    </script>\n",
       "  </div>\n",
       "\n",
       "\n",
       "    <div id=\"df-8f33570f-ae95-4c83-9bb8-60cc248b6102\">\n",
       "      <button class=\"colab-df-quickchart\" onclick=\"quickchart('df-8f33570f-ae95-4c83-9bb8-60cc248b6102')\"\n",
       "                title=\"Suggest charts\"\n",
       "                style=\"display:none;\">\n",
       "\n",
       "<svg xmlns=\"http://www.w3.org/2000/svg\" height=\"24px\"viewBox=\"0 0 24 24\"\n",
       "     width=\"24px\">\n",
       "    <g>\n",
       "        <path d=\"M19 3H5c-1.1 0-2 .9-2 2v14c0 1.1.9 2 2 2h14c1.1 0 2-.9 2-2V5c0-1.1-.9-2-2-2zM9 17H7v-7h2v7zm4 0h-2V7h2v10zm4 0h-2v-4h2v4z\"/>\n",
       "    </g>\n",
       "</svg>\n",
       "      </button>\n",
       "\n",
       "<style>\n",
       "  .colab-df-quickchart {\n",
       "      --bg-color: #E8F0FE;\n",
       "      --fill-color: #1967D2;\n",
       "      --hover-bg-color: #E2EBFA;\n",
       "      --hover-fill-color: #174EA6;\n",
       "      --disabled-fill-color: #AAA;\n",
       "      --disabled-bg-color: #DDD;\n",
       "  }\n",
       "\n",
       "  [theme=dark] .colab-df-quickchart {\n",
       "      --bg-color: #3B4455;\n",
       "      --fill-color: #D2E3FC;\n",
       "      --hover-bg-color: #434B5C;\n",
       "      --hover-fill-color: #FFFFFF;\n",
       "      --disabled-bg-color: #3B4455;\n",
       "      --disabled-fill-color: #666;\n",
       "  }\n",
       "\n",
       "  .colab-df-quickchart {\n",
       "    background-color: var(--bg-color);\n",
       "    border: none;\n",
       "    border-radius: 50%;\n",
       "    cursor: pointer;\n",
       "    display: none;\n",
       "    fill: var(--fill-color);\n",
       "    height: 32px;\n",
       "    padding: 0;\n",
       "    width: 32px;\n",
       "  }\n",
       "\n",
       "  .colab-df-quickchart:hover {\n",
       "    background-color: var(--hover-bg-color);\n",
       "    box-shadow: 0 1px 2px rgba(60, 64, 67, 0.3), 0 1px 3px 1px rgba(60, 64, 67, 0.15);\n",
       "    fill: var(--button-hover-fill-color);\n",
       "  }\n",
       "\n",
       "  .colab-df-quickchart-complete:disabled,\n",
       "  .colab-df-quickchart-complete:disabled:hover {\n",
       "    background-color: var(--disabled-bg-color);\n",
       "    fill: var(--disabled-fill-color);\n",
       "    box-shadow: none;\n",
       "  }\n",
       "\n",
       "  .colab-df-spinner {\n",
       "    border: 2px solid var(--fill-color);\n",
       "    border-color: transparent;\n",
       "    border-bottom-color: var(--fill-color);\n",
       "    animation:\n",
       "      spin 1s steps(1) infinite;\n",
       "  }\n",
       "\n",
       "  @keyframes spin {\n",
       "    0% {\n",
       "      border-color: transparent;\n",
       "      border-bottom-color: var(--fill-color);\n",
       "      border-left-color: var(--fill-color);\n",
       "    }\n",
       "    20% {\n",
       "      border-color: transparent;\n",
       "      border-left-color: var(--fill-color);\n",
       "      border-top-color: var(--fill-color);\n",
       "    }\n",
       "    30% {\n",
       "      border-color: transparent;\n",
       "      border-left-color: var(--fill-color);\n",
       "      border-top-color: var(--fill-color);\n",
       "      border-right-color: var(--fill-color);\n",
       "    }\n",
       "    40% {\n",
       "      border-color: transparent;\n",
       "      border-right-color: var(--fill-color);\n",
       "      border-top-color: var(--fill-color);\n",
       "    }\n",
       "    60% {\n",
       "      border-color: transparent;\n",
       "      border-right-color: var(--fill-color);\n",
       "    }\n",
       "    80% {\n",
       "      border-color: transparent;\n",
       "      border-right-color: var(--fill-color);\n",
       "      border-bottom-color: var(--fill-color);\n",
       "    }\n",
       "    90% {\n",
       "      border-color: transparent;\n",
       "      border-bottom-color: var(--fill-color);\n",
       "    }\n",
       "  }\n",
       "</style>\n",
       "\n",
       "      <script>\n",
       "        async function quickchart(key) {\n",
       "          const quickchartButtonEl =\n",
       "            document.querySelector('#' + key + ' button');\n",
       "          quickchartButtonEl.disabled = true;  // To prevent multiple clicks.\n",
       "          quickchartButtonEl.classList.add('colab-df-spinner');\n",
       "          try {\n",
       "            const charts = await google.colab.kernel.invokeFunction(\n",
       "                'suggestCharts', [key], {});\n",
       "          } catch (error) {\n",
       "            console.error('Error during call to suggestCharts:', error);\n",
       "          }\n",
       "          quickchartButtonEl.classList.remove('colab-df-spinner');\n",
       "          quickchartButtonEl.classList.add('colab-df-quickchart-complete');\n",
       "        }\n",
       "        (() => {\n",
       "          let quickchartButtonEl =\n",
       "            document.querySelector('#df-8f33570f-ae95-4c83-9bb8-60cc248b6102 button');\n",
       "          quickchartButtonEl.style.display =\n",
       "            google.colab.kernel.accessAllowed ? 'block' : 'none';\n",
       "        })();\n",
       "      </script>\n",
       "    </div>\n",
       "\n",
       "    </div>\n",
       "  </div>\n"
      ],
      "text/plain": [
       "   label  pixel1  pixel2  pixel3  pixel4  pixel5  pixel6  pixel7  pixel8  \\\n",
       "0      2       0       0       0       0       0       0       0       0   \n",
       "1      9       0       0       0       0       0       0       0       0   \n",
       "2      6       0       0       0       0       0       0       0       5   \n",
       "3      0       0       0       0       1       2       0       0       0   \n",
       "4      3       0       0       0       0       0       0       0       0   \n",
       "\n",
       "   pixel9  ...  pixel775  pixel776  pixel777  pixel778  pixel779  pixel780  \\\n",
       "0       0  ...         0         0         0         0         0         0   \n",
       "1       0  ...         0         0         0         0         0         0   \n",
       "2       0  ...         0         0         0        30        43         0   \n",
       "3       0  ...         3         0         0         0         0         1   \n",
       "4       0  ...         0         0         0         0         0         0   \n",
       "\n",
       "   pixel781  pixel782  pixel783  pixel784  \n",
       "0         0         0         0         0  \n",
       "1         0         0         0         0  \n",
       "2         0         0         0         0  \n",
       "3         0         0         0         0  \n",
       "4         0         0         0         0  \n",
       "\n",
       "[5 rows x 785 columns]"
      ]
     },
     "execution_count": 21,
     "metadata": {},
     "output_type": "execute_result"
    }
   ],
   "source": [
    "train_df = pd.read_csv('/content/fashion-mnist_train.csv')\n",
    "test_df = pd.read_csv('/content/fashion-mnist_test.csv')\n",
    "train_df.head()"
   ]
  },
  {
   "cell_type": "code",
   "execution_count": null,
   "metadata": {
    "id": "v7sUpDsq5X9C"
   },
   "outputs": [],
   "source": [
    "def fn_imshow(image, ax=None, title=None, normalize=True):\n",
    "  if ax is None:\n",
    "    fig, ax = plt.subplots() #create axis to plot on\n",
    "  image = image.numpy().transpose((1,2,0))\n",
    "\n",
    "  if normalize: #normalize the data\n",
    "    mean = np.array([0.485, 0.456, 0.406])\n",
    "    std = np.array([0.229, 0.224, 0.225])\n",
    "    image = image*std + mean\n",
    "    image = np.clip(image, 0, 1)\n",
    "\n",
    "  ax.imshow(image) #display image\n",
    "  ax.set_title(title) #show title on image\n",
    "\n",
    "  ax.spines['top'].set_visible(False)\n",
    "  ax.spines['right'].set_visible(False)\n",
    "  ax.spines['left'].set_visible(False)\n",
    "  ax.spines['bottom'].set_visible(False)\n",
    "\n",
    "  ax.tick_params(axis='both', length=0)\n",
    "  ax.set_xticklabels('')\n",
    "  ax.set_yticklabels('')\n",
    "\n"
   ]
  },
  {
   "cell_type": "code",
   "execution_count": null,
   "metadata": {
    "id": "B1HNAvq15X5g"
   },
   "outputs": [],
   "source": [
    "transform = v2.Compose([\n",
    "    v2.ToImage(), #image are being read as PIL\n",
    "    v2.ConvertImageDtype(torch.float),\n",
    "    v2.ToDtype(torch.float32, scale=True),\n",
    "    v2.Normalize(mean=[0.485, 0.456, 0.406],\n",
    "                 std=[0.229, 0.224, 0.225])])"
   ]
  },
  {
   "cell_type": "code",
   "execution_count": null,
   "metadata": {
    "id": "zjOBHG2R5X2p"
   },
   "outputs": [],
   "source": [
    "class_names = {\n",
    "    0: 'T-shirt/top',\n",
    "    1: 'Trouser',\n",
    "    2: 'Pullover',\n",
    "    3: 'Dress',\n",
    "    4: 'Coat',\n",
    "    5: 'Sandal',\n",
    "    6: 'Shirt',\n",
    "    7: 'Sneaker',\n",
    "    8: 'Bag',\n",
    "    9: 'Ankle Boot',\n",
    "}"
   ]
  },
  {
   "cell_type": "code",
   "execution_count": null,
   "metadata": {
    "id": "j3wTWp8gtzxY"
   },
   "outputs": [],
   "source": [
    "class FashionMNISTDataset(Dataset):\n",
    "    def __init__(self, dataframe, transform=None):\n",
    "        self.dataframe = dataframe\n",
    "        self.transform = transform\n",
    "\n",
    "        # Separate features and target\n",
    "        self.image = self.dataframe.drop(columns='label')\n",
    "        self.label = self.dataframe['label']\n",
    "\n",
    "    def __len__(self):\n",
    "        return len(self.dataframe)\n",
    "\n",
    "    def __getitem__(self, idx):\n",
    "        if torch.is_tensor(idx):\n",
    "            idx = idx.tolist()\n",
    "\n",
    "        row = self.dataframe.iloc[idx]\n",
    "        label = row.iloc[0]\n",
    "        image = row.iloc[1:].values.astype(np.uint8).reshape(28, 28)\n",
    "        image = np.expand_dims(image, axis=0)\n",
    "\n",
    "        # Convert to 3 channels by repeating the single channel\n",
    "        image = np.repeat(image, 3, axis=0)\n",
    "\n",
    "        # Convert the NumPy array to a PyTorch tensor and cast to float\n",
    "        image = torch.from_numpy(image).float() # <-- Add this line\n",
    "\n",
    "        if self.transform:\n",
    "            image = self.transform(image)\n",
    "\n",
    "        return image, label\n"
   ]
  },
  {
   "cell_type": "code",
   "execution_count": null,
   "metadata": {
    "id": "5ZUJs5M-t2g0"
   },
   "outputs": [],
   "source": [
    "# Create instances of the custom dataset\n",
    "train_dataset = FashionMNISTDataset(train_df)\n",
    "test_dataset = FashionMNISTDataset(test_df)"
   ]
  },
  {
   "cell_type": "code",
   "execution_count": null,
   "metadata": {
    "id": "O2p7_e555Xzy"
   },
   "outputs": [],
   "source": [
    "trainloader = DataLoader(train_dataset,\n",
    "                         batch_size=BATCH_SIZE,\n",
    "                         shuffle=True,\n",
    "                         )\n",
    "\n",
    "\n",
    "testloader = DataLoader(test_dataset,\n",
    "                        batch_size=BATCH_SIZE,\n",
    "                        shuffle=False,\n",
    "                        )"
   ]
  },
  {
   "cell_type": "code",
   "execution_count": null,
   "metadata": {
    "colab": {
     "base_uri": "https://localhost:8080/",
     "height": 477
    },
    "executionInfo": {
     "elapsed": 466,
     "status": "ok",
     "timestamp": 1748769275086,
     "user": {
      "displayName": "Abhinav Pandey",
      "userId": "18226273223427787507"
     },
     "user_tz": -330
    },
    "id": "TyFsD8FT9xqN",
    "outputId": "d5ce0073-cea4-41fb-9bc5-8fcc6753a2c9"
   },
   "outputs": [
    {
     "data": {
      "image/png": "[encoded data removed]",
      "text/plain": [
       "<Figure size 1500x600 with 16 Axes>"
      ]
     },
     "metadata": {},
     "output_type": "display_data"
    }
   ],
   "source": [
    "images, labels = next(iter(trainloader))\n",
    "fig = plt.figure()\n",
    "fig.subplots_adjust(left=0, bottom=0, right=1., top=1., wspace=0.05, hspace=0.05)\n",
    "\n",
    "for i in range(BATCH_SIZE):\n",
    "  ax = fig.add_subplot(BATCH_SIZE//8, 8, (i+1) , xticks=[], yticks=[])\n",
    "  fn_imshow(images[i], ax= ax, normalize=True,\n",
    "            title=class_names[labels[i].item()])\n",
    "plt.tight_layout()"
   ]
  },
  {
   "cell_type": "code",
   "execution_count": null,
   "metadata": {
    "colab": {
     "base_uri": "https://localhost:8080/",
     "height": 477
    },
    "executionInfo": {
     "elapsed": 703,
     "status": "ok",
     "timestamp": 1748769275794,
     "user": {
      "displayName": "Abhinav Pandey",
      "userId": "18226273223427787507"
     },
     "user_tz": -330
    },
    "id": "V0TL4hjo9xnM",
    "outputId": "2e217386-68fe-49e8-9dec-80c5e8e5ba75"
   },
   "outputs": [
    {
     "data": {
      "image/png": "[encoded data removed]",
      "text/plain": [
       "<Figure size 1500x600 with 16 Axes>"
      ]
     },
     "metadata": {},
     "output_type": "display_data"
    }
   ],
   "source": [
    "images, labels = next(iter(testloader))\n",
    "fig = plt.figure()\n",
    "fig.subplots_adjust(left=0, bottom=0, right=1., top=1., wspace=0.05, hspace=0.05)\n",
    "\n",
    "for i in range(BATCH_SIZE):\n",
    "  ax = fig.add_subplot(BATCH_SIZE//8, 8, (i+1) , xticks=[], yticks=[])\n",
    "  fn_imshow(images[i], ax= ax, normalize=True,\n",
    "            title=class_names[labels[i].item()])\n",
    "plt.tight_layout()"
   ]
  },
  {
   "cell_type": "code",
   "execution_count": null,
   "metadata": {
    "colab": {
     "base_uri": "https://localhost:8080/",
     "height": 35
    },
    "executionInfo": {
     "elapsed": 16,
     "status": "ok",
     "timestamp": 1748769275797,
     "user": {
      "displayName": "Abhinav Pandey",
      "userId": "18226273223427787507"
     },
     "user_tz": -330
    },
    "id": "s5PuAfbW9xkD",
    "outputId": "d607d213-1b23-4d12-a307-37cd257a9e38"
   },
   "outputs": [
    {
     "data": {
      "application/vnd.google.colaboratory.intrinsic+json": {
       "type": "string"
      },
      "text/plain": [
       "'cuda'"
      ]
     },
     "execution_count": 30,
     "metadata": {},
     "output_type": "execute_result"
    }
   ],
   "source": [
    "device = 'cuda' if torch.cuda.is_available() else 'cpu'\n",
    "device"
   ]
  },
  {
   "cell_type": "code",
   "execution_count": null,
   "metadata": {
    "colab": {
     "base_uri": "https://localhost:8080/"
    },
    "executionInfo": {
     "elapsed": 29,
     "status": "ok",
     "timestamp": 1748769275832,
     "user": {
      "displayName": "Abhinav Pandey",
      "userId": "18226273223427787507"
     },
     "user_tz": -330
    },
    "id": "YfpWB47n3eN4",
    "outputId": "ebd566f5-53e8-4e96-ea3c-3536743f9d3c"
   },
   "outputs": [
    {
     "name": "stdout",
     "output_type": "stream",
     "text": [
      "Sequential(\n",
      "  (0): Sequential(\n",
      "    (0): Conv2d(3, 32, kernel_size=(3, 3), stride=(1, 1), padding=same)\n",
      "    (1): BatchNorm2d(32, eps=1e-05, momentum=0.1, affine=True, track_running_stats=True)\n",
      "    (2): ReLU()\n",
      "    (3): Dropout(p=0.15, inplace=False)\n",
      "    (4): MaxPool2d(kernel_size=(2, 2), stride=(2, 2), padding=0, dilation=1, ceil_mode=False)\n",
      "    (5): Conv2d(32, 64, kernel_size=(3, 3), stride=(1, 1), padding=same)\n",
      "    (6): BatchNorm2d(64, eps=1e-05, momentum=0.1, affine=True, track_running_stats=True)\n",
      "    (7): ReLU()\n",
      "    (8): Dropout(p=0.15, inplace=False)\n",
      "    (9): MaxPool2d(kernel_size=(2, 2), stride=(2, 2), padding=0, dilation=1, ceil_mode=False)\n",
      "    (10): Conv2d(64, 128, kernel_size=(3, 3), stride=(1, 1), padding=same)\n",
      "    (11): BatchNorm2d(128, eps=1e-05, momentum=0.1, affine=True, track_running_stats=True)\n",
      "    (12): ReLU()\n",
      "    (13): Dropout(p=0.15, inplace=False)\n",
      "    (14): MaxPool2d(kernel_size=(2, 2), stride=(2, 2), padding=0, dilation=1, ceil_mode=False)\n",
      "    (15): Conv2d(128, 256, kernel_size=(3, 3), stride=(1, 1))\n",
      "    (16): BatchNorm2d(256, eps=1e-05, momentum=0.1, affine=True, track_running_stats=True)\n",
      "    (17): ReLU()\n",
      "    (18): Dropout(p=0.15, inplace=False)\n",
      "  )\n",
      "  (1): Flatten(start_dim=1, end_dim=-1)\n",
      "  (2): Linear(in_features=256, out_features=256, bias=True)\n",
      "  (3): BatchNorm1d(256, eps=1e-05, momentum=0.1, affine=True, track_running_stats=True)\n",
      "  (4): ReLU()\n",
      "  (5): Dropout(p=0.15, inplace=False)\n",
      "  (6): Linear(in_features=256, out_features=10, bias=True)\n",
      "  (7): Softmax(dim=1)\n",
      ")\n"
     ]
    }
   ],
   "source": [
    "# Before defining the linear layers, calculate the flattened features dynamically\n",
    "numchannels = 3\n",
    "\n",
    "\n",
    "#  in and out channels in the models\n",
    "out_channels1 = 32\n",
    "out_channels2 = 64\n",
    "out_channels3 = 128\n",
    "out_channels4 = 256\n",
    "out_channels5 = 256\n",
    "\n",
    "# dropout rates\n",
    "dor1 = 0.15\n",
    "dor2 = 0.15\n",
    "dor3 = 0.15\n",
    "dor4 = 0.15\n",
    "dor5 = 0.15\n",
    "\n",
    "# Create a sequential model that includes all layers up to Flatten\n",
    "conv_layers = nn.Sequential(\n",
    "    # --SET1---\n",
    "    nn.Conv2d(numchannels, out_channels1, padding='same', kernel_size=(3,3)),\n",
    "    nn.BatchNorm2d(out_channels1),\n",
    "    nn.ReLU(),\n",
    "    nn.Dropout(p=dor1),\n",
    "    nn.MaxPool2d(kernel_size=(2,2), stride = (2,2)),\n",
    "\n",
    "    # --SET2---\n",
    "    nn.Conv2d(out_channels1, out_channels2, padding='same', kernel_size=(3,3)),\n",
    "    nn.BatchNorm2d(out_channels2),\n",
    "    nn.ReLU(),\n",
    "    nn.Dropout(p=dor2),\n",
    "    nn.MaxPool2d(kernel_size=(2,2), stride = (2,2)),\n",
    "\n",
    "    # ---set3 ---\n",
    "    nn.Conv2d(out_channels2, out_channels3, padding='same', kernel_size=(3,3)),\n",
    "    nn.BatchNorm2d(out_channels3),\n",
    "    nn.ReLU(),\n",
    "    nn.Dropout(p=dor3),\n",
    "    nn.MaxPool2d(kernel_size=(2,2), stride = (2,2)),\n",
    "\n",
    "    # -----set4---\n",
    "    nn.Conv2d(out_channels3, out_channels4, kernel_size=(3,3)), # No 'same' padding here\n",
    "    nn.BatchNorm2d(out_channels4),\n",
    "    nn.ReLU(),\n",
    "    nn.Dropout(p=dor4),\n",
    ")\n",
    "\n",
    "# Pass a dummy tensor through the conv_layers to get the output shape\n",
    "dummy_input = torch.randn(2, numchannels, 28, 28) # Changed batch size from 1 to 2\n",
    "output_of_conv_layers = conv_layers(dummy_input)\n",
    "# The shape will now be [2, 256, 1, 1], but we only need the spatial and channel dimensions\n",
    "flattened_features = output_of_conv_layers.shape[1] * output_of_conv_layers.shape[2] * output_of_conv_layers.shape[3]\n",
    "\n",
    "# Now define the complete model using the calculated flattened_features\n",
    "model = nn.Sequential(\n",
    "    conv_layers, # Include the defined conv_layers sequential\n",
    "    nn.Flatten(), # Flatten the output of conv_layers\n",
    "\n",
    "    # ---set5---\n",
    "    nn.Linear(in_features=flattened_features, # Use the calculated flattened_features\n",
    "              out_features=out_channels5),\n",
    "    nn.BatchNorm1d(out_channels5),\n",
    "    nn.ReLU(),\n",
    "    nn.Dropout(p=dor5),\n",
    "\n",
    "    nn.Linear(in_features=out_channels5,\n",
    "              out_features=10),\n",
    "    nn.Softmax(dim=1).to(device=device)  # output layer\n",
    ")\n",
    "\n",
    "print(model)"
   ]
  },
  {
   "cell_type": "code",
   "execution_count": null,
   "metadata": {
    "colab": {
     "base_uri": "https://localhost:8080/"
    },
    "executionInfo": {
     "elapsed": 13,
     "status": "ok",
     "timestamp": 1748769275841,
     "user": {
      "displayName": "Abhinav Pandey",
      "userId": "18226273223427787507"
     },
     "user_tz": -330
    },
    "id": "ilobIMLrxU-y",
    "outputId": "1e73e7a8-7640-4329-bc29-73e87de67323"
   },
   "outputs": [
    {
     "name": "stdout",
     "output_type": "stream",
     "text": [
      "[INFO] Using device: cuda\n"
     ]
    }
   ],
   "source": [
    "device = torch.device(\"cuda\" if torch.cuda.is_available() else \"cpu\")\n",
    "print(f\"[INFO] Using device: {device}\")"
   ]
  },
  {
   "cell_type": "code",
   "execution_count": null,
   "metadata": {
    "id": "iGdP0yK6b5W6"
   },
   "outputs": [],
   "source": [
    "def fn_split_features_labels(row):\n",
    "  feature = tf.reshape(row[1:], [IMG_HEIGHT, IMG_WIDTH, numchannels])\n",
    "  label = row[0]\n",
    "  return feature, label\n"
   ]
  },
  {
   "cell_type": "code",
   "execution_count": null,
   "metadata": {
    "id": "FAdXnrWIuiLa"
   },
   "outputs": [],
   "source": [
    "# initialize our optimizer and loss function\n",
    "opt = torch.optim.Adam(model.parameters(), lr=ALPHA, weight_decay=0.001)\n",
    "\n",
    "# loss function\n",
    "loss_fn = nn.CrossEntropyLoss()\n",
    "\n",
    "# initializing learning rate scheduler\n",
    "lr_scheduler = torch.optim.lr_scheduler.ReduceLROnPlateau(opt,\n",
    "                                                        mode='min',\n",
    "                                                        factor=LR_FACTOR,\n",
    "                                                        patience=LR_PATIENCE,\n",
    "                                                        min_lr=1e-6)"
   ]
  },
  {
   "cell_type": "code",
   "execution_count": null,
   "metadata": {
    "colab": {
     "base_uri": "https://localhost:8080/"
    },
    "executionInfo": {
     "elapsed": 1510455,
     "status": "ok",
     "timestamp": 1748770786347,
     "user": {
      "displayName": "Abhinav Pandey",
      "userId": "18226273223427787507"
     },
     "user_tz": -330
    },
    "id": "jR5pNI8zxDbU",
    "outputId": "2508b1a4-1a3f-404e-b65d-a6e4a066722b"
   },
   "outputs": [
    {
     "name": "stdout",
     "output_type": "stream",
     "text": [
      "[INFO] Training the network...\n",
      "[INFO] Using device: cuda\n",
      "[INFO] EPOCH:   0/50 Loss: 1.659725 / 1.609192 | Accuracy: 0.8152 / 0.8640 | alpha: 0.0010000 in : 30.46 sec.\n",
      "[INFO] EPOCH:   1/50 Loss: 1.624517 / 1.598155 | Accuracy: 0.8479 / 0.8783 | alpha: 0.0010000 in : 30.66 sec.\n",
      "[INFO] EPOCH:   2/50 Loss: 1.616278 / 1.633836 | Accuracy: 0.8551 / 0.8379 | alpha: 0.0010000 in : 29.11 sec.\n",
      "[INFO] EPOCH:   3/50 Loss: 1.610832 / 1.606080 | Accuracy: 0.8607 / 0.8736 | alpha: 0.0010000 in : 30.92 sec.\n",
      "[INFO] EPOCH:   4/50 Loss: 1.606633 / 1.582014 | Accuracy: 0.8657 / 0.8912 | alpha: 0.0010000 in : 30.45 sec.\n",
      "[INFO] EPOCH:   5/50 Loss: 1.605843 / 1.604161 | Accuracy: 0.8658 / 0.8665 | alpha: 0.0010000 in : 29.91 sec.\n",
      "[INFO] EPOCH:   6/50 Loss: 1.604543 / 1.586732 | Accuracy: 0.8669 / 0.8887 | alpha: 0.0010000 in : 29.76 sec.\n",
      "[INFO] EPOCH:   7/50 Loss: 1.605370 / 1.588568 | Accuracy: 0.8666 / 0.8858 | alpha: 0.0010000 in : 29.33 sec.\n",
      "[INFO] EPOCH:   8/50 Loss: 1.601734 / 1.596030 | Accuracy: 0.8700 / 0.8775 | alpha: 0.0010000 in : 30.19 sec.\n",
      "[INFO] EPOCH:   9/50 Loss: 1.601519 / 1.584043 | Accuracy: 0.8709 / 0.8867 | alpha: 0.0010000 in : 29.45 sec.\n",
      "[INFO] EPOCH:  10/50 Loss: 1.600360 / 1.585482 | Accuracy: 0.8718 / 0.8890 | alpha: 0.0010000 in : 30.87 sec.\n",
      "[INFO] EPOCH:  11/50 Loss: 1.598864 / 1.583685 | Accuracy: 0.8735 / 0.8864 | alpha: 0.0010000 in : 29.68 sec.\n",
      "[INFO] EPOCH:  12/50 Loss: 1.600188 / 1.587520 | Accuracy: 0.8723 / 0.8850 | alpha: 0.0010000 in : 29.64 sec.\n",
      "[INFO] EPOCH:  13/50 Loss: 1.599409 / 1.578558 | Accuracy: 0.8726 / 0.8917 | alpha: 0.0010000 in : 29.38 sec.\n",
      "[INFO] EPOCH:  14/50 Loss: 1.599024 / 1.577644 | Accuracy: 0.8734 / 0.8919 | alpha: 0.0010000 in : 29.36 sec.\n",
      "[INFO] EPOCH:  15/50 Loss: 1.600785 / 1.574001 | Accuracy: 0.8709 / 0.8981 | alpha: 0.0010000 in : 29.02 sec.\n",
      "[INFO] EPOCH:  16/50 Loss: 1.599068 / 1.596109 | Accuracy: 0.8730 / 0.8774 | alpha: 0.0010000 in : 29.16 sec.\n",
      "[INFO] EPOCH:  17/50 Loss: 1.597301 / 1.601431 | Accuracy: 0.8747 / 0.8683 | alpha: 0.0010000 in : 28.77 sec.\n",
      "[INFO] EPOCH:  18/50 Loss: 1.597798 / 1.574749 | Accuracy: 0.8746 / 0.8964 | alpha: 0.0010000 in : 29.58 sec.\n",
      "[INFO] EPOCH:  19/50 Loss: 1.599229 / 1.573052 | Accuracy: 0.8728 / 0.8955 | alpha: 0.0010000 in : 28.98 sec.\n",
      "[INFO] EPOCH:  20/50 Loss: 1.599999 / 1.579722 | Accuracy: 0.8723 / 0.8907 | alpha: 0.0010000 in : 29.56 sec.\n",
      "[INFO] EPOCH:  21/50 Loss: 1.597897 / 1.587913 | Accuracy: 0.8741 / 0.8824 | alpha: 0.0010000 in : 30.60 sec.\n",
      "[INFO] EPOCH:  22/50 Loss: 1.599089 / 1.584108 | Accuracy: 0.8724 / 0.8859 | alpha: 0.0010000 in : 29.72 sec.\n",
      "[INFO] EPOCH:  23/50 Loss: 1.600553 / 1.597145 | Accuracy: 0.8711 / 0.8746 | alpha: 0.0010000 in : 31.64 sec.\n",
      "[INFO] EPOCH:  24/50 Loss: 1.598218 / 1.583212 | Accuracy: 0.8738 / 0.8881 | alpha: 0.0010000 in : 30.95 sec.\n",
      "[INFO] EPOCH:  25/50 Loss: 1.598727 / 1.582139 | Accuracy: 0.8734 / 0.8885 | alpha: 0.0010000 in : 31.56 sec.\n",
      "[INFO] EPOCH:  26/50 Loss: 1.598394 / 1.582171 | Accuracy: 0.8741 / 0.8888 | alpha: 0.0010000 in : 30.22 sec.\n",
      "[INFO] EPOCH:  27/50 Loss: 1.598173 / 1.582520 | Accuracy: 0.8738 / 0.8881 | alpha: 0.0010000 in : 30.93 sec.\n",
      "[INFO] EPOCH:  28/50 Loss: 1.598678 / 1.574048 | Accuracy: 0.8735 / 0.8971 | alpha: 0.0010000 in : 30.27 sec.\n",
      "[INFO] EPOCH:  29/50 Loss: 1.598536 / 1.600588 | Accuracy: 0.8736 / 0.8701 | alpha: 0.0010000 in : 31.04 sec.\n",
      "[INFO] EPOCH:  30/50 Loss: 1.598723 / 1.578410 | Accuracy: 0.8732 / 0.8920 | alpha: 0.0001000 in : 30.77 sec.\n",
      "[INFO] EPOCH:  31/50 Loss: 1.576886 / 1.559191 | Accuracy: 0.8932 / 0.9099 | alpha: 0.0001000 in : 31.60 sec.\n",
      "[INFO] EPOCH:  32/50 Loss: 1.570574 / 1.559679 | Accuracy: 0.9005 / 0.9077 | alpha: 0.0001000 in : 31.03 sec.\n",
      "[INFO] EPOCH:  33/50 Loss: 1.568548 / 1.555424 | Accuracy: 0.9025 / 0.9130 | alpha: 0.0001000 in : 30.82 sec.\n",
      "[INFO] EPOCH:  34/50 Loss: 1.565566 / 1.554836 | Accuracy: 0.9056 / 0.9134 | alpha: 0.0001000 in : 30.34 sec.\n",
      "[INFO] EPOCH:  35/50 Loss: 1.563598 / 1.552586 | Accuracy: 0.9074 / 0.9139 | alpha: 0.0001000 in : 31.29 sec.\n",
      "[INFO] EPOCH:  36/50 Loss: 1.563532 / 1.557379 | Accuracy: 0.9064 / 0.9106 | alpha: 0.0001000 in : 30.53 sec.\n",
      "[INFO] EPOCH:  37/50 Loss: 1.562392 / 1.550389 | Accuracy: 0.9085 / 0.9182 | alpha: 0.0001000 in : 30.91 sec.\n",
      "[INFO] EPOCH:  38/50 Loss: 1.562980 / 1.550663 | Accuracy: 0.9079 / 0.9160 | alpha: 0.0001000 in : 30.07 sec.\n",
      "[INFO] EPOCH:  39/50 Loss: 1.561914 / 1.556353 | Accuracy: 0.9088 / 0.9114 | alpha: 0.0001000 in : 30.11 sec.\n",
      "[INFO] EPOCH:  40/50 Loss: 1.560381 / 1.551558 | Accuracy: 0.9106 / 0.9164 | alpha: 0.0001000 in : 30.19 sec.\n",
      "[INFO] EPOCH:  41/50 Loss: 1.558665 / 1.546753 | Accuracy: 0.9121 / 0.9199 | alpha: 0.0001000 in : 29.57 sec.\n",
      "[INFO] EPOCH:  42/50 Loss: 1.559664 / 1.546043 | Accuracy: 0.9109 / 0.9223 | alpha: 0.0001000 in : 30.25 sec.\n",
      "[INFO] EPOCH:  43/50 Loss: 1.560214 / 1.546218 | Accuracy: 0.9112 / 0.9214 | alpha: 0.0001000 in : 29.40 sec.\n",
      "[INFO] EPOCH:  44/50 Loss: 1.558661 / 1.546866 | Accuracy: 0.9127 / 0.9210 | alpha: 0.0001000 in : 30.19 sec.\n",
      "[INFO] EPOCH:  45/50 Loss: 1.557226 / 1.549091 | Accuracy: 0.9143 / 0.9177 | alpha: 0.0001000 in : 30.37 sec.\n",
      "[INFO] EPOCH:  46/50 Loss: 1.557361 / 1.551865 | Accuracy: 0.9138 / 0.9139 | alpha: 0.0001000 in : 30.64 sec.\n",
      "[INFO] EPOCH:  47/50 Loss: 1.557897 / 1.551430 | Accuracy: 0.9132 / 0.9167 | alpha: 0.0001000 in : 30.41 sec.\n",
      "[INFO] EPOCH:  48/50 Loss: 1.556663 / 1.557505 | Accuracy: 0.9142 / 0.9108 | alpha: 0.0001000 in : 29.93 sec.\n",
      "[INFO] EPOCH:  49/50 Loss: 1.557093 / 1.548594 | Accuracy: 0.9140 / 0.9171 | alpha: 0.0001000 in : 30.73 sec.\n",
      "[INFO] total time taken to train the model: 25.17 min\n"
     ]
    }
   ],
   "source": [
    "# measure how long training is going to take\n",
    "print(\"[INFO] Training the network...\")\n",
    "startTime = time.time()\n",
    "\n",
    "# Initialize device\n",
    "device = torch.device(\"cuda\" if torch.cuda.is_available() else \"cpu\")\n",
    "print(f\"[INFO] Using device: {device}\")\n",
    "\n",
    "# Move model to device\n",
    "model = model.to(device)\n",
    "\n",
    "# initialize a dictionary to store training history\n",
    "H = {\n",
    "    'epoch': [],\n",
    "    'train_loss': [],\n",
    "    'test_loss': [],\n",
    "    'train_acc': [],\n",
    "    'test_acc': [],\n",
    "    'alpha': []\n",
    "}\n",
    "\n",
    "# loop over our epochs\n",
    "for e in range(0, EPOCHS):\n",
    "    epochStart = time.time()\n",
    "\n",
    "    # set the model in training mode\n",
    "    model.train()\n",
    "\n",
    "    # initialize the average training and validation loss\n",
    "    avgTrainLoss = 0\n",
    "    avgTestLoss = 0\n",
    "\n",
    "    # initialize the number of correct predictions\n",
    "    trainAcc = 0\n",
    "    testAcc = 0\n",
    "\n",
    "    # loop over the training set\n",
    "    for count, (images, labels) in enumerate(trainloader):\n",
    "        # Move data to device\n",
    "        images = images.float().to(device)  # Convert to float32 and move to device\n",
    "        labels = labels.to(device)\n",
    "\n",
    "        # If your images are in range 0-255, you might want to normalize:\n",
    "        # images = images.float() / 255.0\n",
    "\n",
    "        # perform a forward pass and calculate the training loss\n",
    "        pred_train = model(images)\n",
    "        train_loss = loss_fn(pred_train, labels)\n",
    "        y_pred = pred_train.argmax(1)\n",
    "\n",
    "        # zero out the gradients, perform backpropagation, and update weights\n",
    "        opt.zero_grad()\n",
    "        train_loss.backward()\n",
    "        opt.step()\n",
    "\n",
    "        # update running averages\n",
    "        avgTrainLoss += (train_loss.item() - avgTrainLoss) / (count + 1)\n",
    "        curr_acc = accuracy_score(labels.cpu().numpy(), y_pred.cpu().numpy())\n",
    "        trainAcc += (curr_acc - trainAcc) / (count + 1)\n",
    "\n",
    "    # Validation phase\n",
    "    with torch.no_grad():\n",
    "        model.eval()\n",
    "\n",
    "        for count, (images, labels) in enumerate(testloader):\n",
    "            # Move data to device\n",
    "            images = images.float().to(device)\n",
    "            labels = labels.to(device)\n",
    "\n",
    "            pred_test = model(images)\n",
    "            y_pred = pred_test.argmax(1)\n",
    "            test_loss = loss_fn(pred_test, labels)\n",
    "\n",
    "            avgTestLoss += (test_loss.item() - avgTestLoss) / (count + 1)\n",
    "            curr_acc = accuracy_score(labels.cpu().numpy(), y_pred.cpu().numpy())\n",
    "            testAcc += (curr_acc - testAcc) / (count + 1)\n",
    "\n",
    "        # Update learning rate\n",
    "        lr_scheduler.step(avgTestLoss)\n",
    "\n",
    "    # Update training history\n",
    "    H[\"epoch\"].append(e)\n",
    "    H[\"train_loss\"].append(avgTrainLoss)\n",
    "    H[\"test_loss\"].append(avgTestLoss)\n",
    "    H[\"train_acc\"].append(trainAcc)\n",
    "    H[\"test_acc\"].append(testAcc)\n",
    "    H[\"alpha\"].append(lr_scheduler.get_last_lr()[0])\n",
    "\n",
    "    # if e % 10 == 0:\n",
    "    print(f'[INFO] EPOCH: {e:3d}/{EPOCHS} Loss: {avgTrainLoss:.6f} / {avgTestLoss:.6f}',\n",
    "          f'| Accuracy: {trainAcc:.4f} / {testAcc:.4f}',\n",
    "          f'| alpha: {lr_scheduler.get_last_lr()[0]:.7f}',\n",
    "          f'in : {time.time() - epochStart:.2f} sec.')\n",
    "\n",
    "# finish measuring how long training took\n",
    "endTime = time.time()\n",
    "print(\"[INFO] total time taken to train the model: {:.2f} min\".format((endTime - startTime) / 60.))"
   ]
  },
  {
   "cell_type": "code",
   "execution_count": null,
   "metadata": {
    "colab": {
     "base_uri": "https://localhost:8080/",
     "height": 81
    },
    "executionInfo": {
     "elapsed": 60,
     "status": "ok",
     "timestamp": 1748770786360,
     "user": {
      "displayName": "Abhinav Pandey",
      "userId": "18226273223427787507"
     },
     "user_tz": -330
    },
    "id": "RnenYyHdm_ay",
    "outputId": "62be465e-10f5-4266-d269-54a233b78369"
   },
   "outputs": [
    {
     "data": {
      "application/vnd.google.colaboratory.intrinsic+json": {
       "summary": "{\n  \"name\": \"loss_df[loss_df['test_loss'] == loss_df['test_loss']\",\n  \"rows\": 1,\n  \"fields\": [\n    {\n      \"column\": \"epoch\",\n      \"properties\": {\n        \"dtype\": \"number\",\n        \"std\": null,\n        \"min\": 42,\n        \"max\": 42,\n        \"num_unique_values\": 1,\n        \"samples\": [\n          42\n        ],\n        \"semantic_type\": \"\",\n        \"description\": \"\"\n      }\n    },\n    {\n      \"column\": \"train_loss\",\n      \"properties\": {\n        \"dtype\": \"number\",\n        \"std\": null,\n        \"min\": 1.5596638596534709,\n        \"max\": 1.5596638596534709,\n        \"num_unique_values\": 1,\n        \"samples\": [\n          1.5596638596534709\n        ],\n        \"semantic_type\": \"\",\n        \"description\": \"\"\n      }\n    },\n    {\n      \"column\": \"test_loss\",\n      \"properties\": {\n        \"dtype\": \"number\",\n        \"std\": null,\n        \"min\": 1.5460432565689086,\n        \"max\": 1.5460432565689086,\n        \"num_unique_values\": 1,\n        \"samples\": [\n          1.5460432565689086\n        ],\n        \"semantic_type\": \"\",\n        \"description\": \"\"\n      }\n    },\n    {\n      \"column\": \"train_acc\",\n      \"properties\": {\n        \"dtype\": \"number\",\n        \"std\": null,\n        \"min\": 0.9109166666666693,\n        \"max\": 0.9109166666666693,\n        \"num_unique_values\": 1,\n        \"samples\": [\n          0.9109166666666693\n        ],\n        \"semantic_type\": \"\",\n        \"description\": \"\"\n      }\n    },\n    {\n      \"column\": \"test_acc\",\n      \"properties\": {\n        \"dtype\": \"number\",\n        \"std\": null,\n        \"min\": 0.9222999999999997,\n        \"max\": 0.9222999999999997,\n        \"num_unique_values\": 1,\n        \"samples\": [\n          0.9222999999999997\n        ],\n        \"semantic_type\": \"\",\n        \"description\": \"\"\n      }\n    },\n    {\n      \"column\": \"alpha\",\n      \"properties\": {\n        \"dtype\": \"number\",\n        \"std\": null,\n        \"min\": 0.0001,\n        \"max\": 0.0001,\n        \"num_unique_values\": 1,\n        \"samples\": [\n          0.0001\n        ],\n        \"semantic_type\": \"\",\n        \"description\": \"\"\n      }\n    }\n  ]\n}",
       "type": "dataframe"
      },
      "text/html": [
       "\n",
       "  <div id=\"df-2bb8d501-418e-4cb8-89b1-7a9ba7ba15b5\" class=\"colab-df-container\">\n",
       "    <div>\n",
       "<style scoped>\n",
       "    .dataframe tbody tr th:only-of-type {\n",
       "        vertical-align: middle;\n",
       "    }\n",
       "\n",
       "    .dataframe tbody tr th {\n",
       "        vertical-align: top;\n",
       "    }\n",
       "\n",
       "    .dataframe thead th {\n",
       "        text-align: right;\n",
       "    }\n",
       "</style>\n",
       "<table border=\"1\" class=\"dataframe\">\n",
       "  <thead>\n",
       "    <tr style=\"text-align: right;\">\n",
       "      <th></th>\n",
       "      <th>epoch</th>\n",
       "      <th>train_loss</th>\n",
       "      <th>test_loss</th>\n",
       "      <th>train_acc</th>\n",
       "      <th>test_acc</th>\n",
       "      <th>alpha</th>\n",
       "    </tr>\n",
       "  </thead>\n",
       "  <tbody>\n",
       "    <tr>\n",
       "      <th>42</th>\n",
       "      <td>42</td>\n",
       "      <td>1.559664</td>\n",
       "      <td>1.546043</td>\n",
       "      <td>0.910917</td>\n",
       "      <td>0.9223</td>\n",
       "      <td>0.0001</td>\n",
       "    </tr>\n",
       "  </tbody>\n",
       "</table>\n",
       "</div>\n",
       "    <div class=\"colab-df-buttons\">\n",
       "\n",
       "  <div class=\"colab-df-container\">\n",
       "    <button class=\"colab-df-convert\" onclick=\"convertToInteractive('df-2bb8d501-418e-4cb8-89b1-7a9ba7ba15b5')\"\n",
       "            title=\"Convert this dataframe to an interactive table.\"\n",
       "            style=\"display:none;\">\n",
       "\n",
       "  <svg xmlns=\"http://www.w3.org/2000/svg\" height=\"24px\" viewBox=\"0 -960 960 960\">\n",
       "    <path d=\"M120-120v-720h720v720H120Zm60-500h600v-160H180v160Zm220 220h160v-160H400v160Zm0 220h160v-160H400v160ZM180-400h160v-160H180v160Zm440 0h160v-160H620v160ZM180-180h160v-160H180v160Zm440 0h160v-160H620v160Z\"/>\n",
       "  </svg>\n",
       "    </button>\n",
       "\n",
       "  <style>\n",
       "    .colab-df-container {\n",
       "      display:flex;\n",
       "      gap: 12px;\n",
       "    }\n",
       "\n",
       "    .colab-df-convert {\n",
       "      background-color: #E8F0FE;\n",
       "      border: none;\n",
       "      border-radius: 50%;\n",
       "      cursor: pointer;\n",
       "      display: none;\n",
       "      fill: #1967D2;\n",
       "      height: 32px;\n",
       "      padding: 0 0 0 0;\n",
       "      width: 32px;\n",
       "    }\n",
       "\n",
       "    .colab-df-convert:hover {\n",
       "      background-color: #E2EBFA;\n",
       "      box-shadow: 0px 1px 2px rgba(60, 64, 67, 0.3), 0px 1px 3px 1px rgba(60, 64, 67, 0.15);\n",
       "      fill: #174EA6;\n",
       "    }\n",
       "\n",
       "    .colab-df-buttons div {\n",
       "      margin-bottom: 4px;\n",
       "    }\n",
       "\n",
       "    [theme=dark] .colab-df-convert {\n",
       "      background-color: #3B4455;\n",
       "      fill: #D2E3FC;\n",
       "    }\n",
       "\n",
       "    [theme=dark] .colab-df-convert:hover {\n",
       "      background-color: #434B5C;\n",
       "      box-shadow: 0px 1px 3px 1px rgba(0, 0, 0, 0.15);\n",
       "      filter: drop-shadow(0px 1px 2px rgba(0, 0, 0, 0.3));\n",
       "      fill: #FFFFFF;\n",
       "    }\n",
       "  </style>\n",
       "\n",
       "    <script>\n",
       "      const buttonEl =\n",
       "        document.querySelector('#df-2bb8d501-418e-4cb8-89b1-7a9ba7ba15b5 button.colab-df-convert');\n",
       "      buttonEl.style.display =\n",
       "        google.colab.kernel.accessAllowed ? 'block' : 'none';\n",
       "\n",
       "      async function convertToInteractive(key) {\n",
       "        const element = document.querySelector('#df-2bb8d501-418e-4cb8-89b1-7a9ba7ba15b5');\n",
       "        const dataTable =\n",
       "          await google.colab.kernel.invokeFunction('convertToInteractive',\n",
       "                                                    [key], {});\n",
       "        if (!dataTable) return;\n",
       "\n",
       "        const docLinkHtml = 'Like what you see? Visit the ' +\n",
       "          '<a target=\"_blank\" href=https://colab.research.google.com/notebooks/data_table.ipynb>data table notebook</a>'\n",
       "          + ' to learn more about interactive tables.';\n",
       "        element.innerHTML = '';\n",
       "        dataTable['output_type'] = 'display_data';\n",
       "        await google.colab.output.renderOutput(dataTable, element);\n",
       "        const docLink = document.createElement('div');\n",
       "        docLink.innerHTML = docLinkHtml;\n",
       "        element.appendChild(docLink);\n",
       "      }\n",
       "    </script>\n",
       "  </div>\n",
       "\n",
       "\n",
       "    </div>\n",
       "  </div>\n"
      ],
      "text/plain": [
       "    epoch  train_loss  test_loss  train_acc  test_acc   alpha\n",
       "42     42    1.559664   1.546043   0.910917    0.9223  0.0001"
      ]
     },
     "execution_count": 39,
     "metadata": {},
     "output_type": "execute_result"
    }
   ],
   "source": [
    "loss_df = pd.DataFrame(H)\n",
    "loss_df[loss_df['test_loss'] == loss_df['test_loss'].min()]"
   ]
  },
  {
   "cell_type": "code",
   "execution_count": null,
   "metadata": {
    "id": "MlIR-gUVb5OV"
   },
   "outputs": [],
   "source": [
    "def fn_plot_tf_hist(hist_df):\n",
    "        fig, axes = plt.subplots(1, 2, figsize = (15, 5))\n",
    "\n",
    "        # y1 = hist_df.columns[\"train_acc\"]\n",
    "        # y2 = hist_df.columns[\"train_loss\"]\n",
    "        # y3 = hist_df.columns[\"test_acc\"]\n",
    "        # y4 = hist_df.columns[\"test_loss\"]\n",
    "\n",
    "        y1 = \"train_acc\"\n",
    "        y2 = \"train_loss\"\n",
    "        y3 = \"test_acc\"\n",
    "        y4 = \"test_loss\"\n",
    "\n",
    "        best = hist_df[hist_df[y4] == hist_df[y4].min()]\n",
    "        props = dict (boxstyle = 'round', facecolor = 'cyan', alpha = 0.4)\n",
    "        facecolor = 'cyan'\n",
    "        fontsize = 12\n",
    "        CMAP = plt.cm.coolwarm\n",
    "\n",
    "        ax = axes[0]\n",
    "        hist_df.plot(y=[y2, y4], ax=ax, colormap= CMAP)\n",
    "        txtFmt = 'Loss:\\n   train: {:6.4f}\\n    test: {:6.4f}'\n",
    "        txtstr = txtFmt.format(hist_df.iloc[-1][y2],\n",
    "                        hist_df.iloc[-1][y4])\n",
    "\n",
    "        ax.text(0.3, 0.95, txtstr,\n",
    "                transform=ax.transAxes,\n",
    "                fontsize = fontsize,\n",
    "                verticalalignment = 'top',\n",
    "                bbox = props)\n",
    "\n",
    "        # Arrow offset markings\n",
    "        y_min = min(hist_df[y2].min(), hist_df[y4].min())\n",
    "        y_max = max(hist_df[y2].max(), hist_df[y4].max())\n",
    "        offset = (y_max - y_min)/10.0\n",
    "\n",
    "        ax.annotate(f'Min: {best[y4].to_numpy()[0]:6.4}', # text to print\n",
    "                xy = (best.index.to_numpy(), best[y4].to_numpy()[0]), #start\n",
    "                xytext = (best.index.to_numpy(), best[y4].to_numpy()[0]+offset),\n",
    "                fontsize=fontsize, va = 'bottom', ha='right', bbox=props,\n",
    "                arrowprops = dict(facecolor = facecolor, shrink=0.05)\n",
    "                )\n",
    "        ax.axvline(best.index.to_numpy(), color='g',\n",
    "                linestyle = '-.', lw = 3,\n",
    "                )\n",
    "        ax.set_xlabel('Epochs')\n",
    "        ax.set_ylabel(y2.capitalize())\n",
    "\n",
    "        ax = axes[1]\n",
    "        hist_df.plot(y=[y1, y3], ax=ax, colormap= CMAP)\n",
    "        txtFmt = 'Loss:\\n   train: {:6.4f}\\n    test: {:6.4f}'\n",
    "        txtstr = txtFmt.format(hist_df.iloc[-1][y1],\n",
    "                        hist_df.iloc[-1][y3])\n",
    "\n",
    "        ax.text(0.3, 0.2, txtstr,\n",
    "                transform=ax.transAxes,\n",
    "                fontsize = fontsize,\n",
    "                verticalalignment = 'top',\n",
    "                bbox = props)\n",
    "\n",
    "        # Arrow offset markings\n",
    "        y_min = min(hist_df[y1].min(), hist_df[y3].min())\n",
    "        y_max = max(hist_df[y1].max(), hist_df[y3].max())\n",
    "        offset = (y_max - y_min)/10.0\n",
    "\n",
    "        ax.annotate(f'Best: {best[y3].to_numpy()[0]:6.4}', # text to print\n",
    "                xy = (best.index.to_numpy(), best[y3].to_numpy()[0]), #start\n",
    "                xytext = (best.index.to_numpy(), best[y3].to_numpy()[0]+offset),\n",
    "                fontsize=fontsize, va = 'bottom', ha='right', bbox=props,\n",
    "                arrowprops = dict(facecolor = facecolor, shrink=0.05)\n",
    "                )\n",
    "\n",
    "        ax.axvline(best.index.to_numpy(), color='g',\n",
    "                linestyle = '-.', lw = 3,\n",
    "                )\n",
    "\n",
    "        ax.set_xlabel('Epochs')\n",
    "        ax.set_ylabel(y2.capitalize())\n",
    "        ax.grid()\n",
    "        plt.suptitle('Training Performance')\n",
    "        plt.tight_layout()"
   ]
  },
  {
   "cell_type": "code",
   "execution_count": null,
   "metadata": {
    "colab": {
     "base_uri": "https://localhost:8080/",
     "height": 512
    },
    "executionInfo": {
     "elapsed": 578,
     "status": "ok",
     "timestamp": 1748770786954,
     "user": {
      "displayName": "Abhinav Pandey",
      "userId": "18226273223427787507"
     },
     "user_tz": -330
    },
    "id": "6Ibxyge6lcdi",
    "outputId": "c891036e-a793-4af8-e5f0-a62afed30dc7"
   },
   "outputs": [
    {
     "data": {
      "image/png": "[encoded data removed]",
      "text/plain": [
       "<Figure size 1500x500 with 2 Axes>"
      ]
     },
     "metadata": {},
     "output_type": "display_data"
    }
   ],
   "source": [
    "fn_plot_tf_hist(loss_df)"
   ]
  },
  {
   "cell_type": "code",
   "execution_count": null,
   "metadata": {
    "colab": {
     "base_uri": "https://localhost:8080/"
    },
    "executionInfo": {
     "elapsed": 12133,
     "status": "ok",
     "timestamp": 1748770799093,
     "user": {
      "displayName": "Abhinav Pandey",
      "userId": "18226273223427787507"
     },
     "user_tz": -330
    },
    "id": "y1vjSuZ8vo1p",
    "outputId": "d743b8af-55f8-4eb2-efdb-8565e06ef24c"
   },
   "outputs": [
    {
     "name": "stdout",
     "output_type": "stream",
     "text": [
      "Accuracy: 0.9310\n",
      "\n",
      "              precision    recall  f1-score   support\n",
      "\n",
      " T-shirt/top       0.91      0.88      0.90      6000\n",
      "     Trouser       0.99      0.99      0.99      6000\n",
      "    Pullover       0.90      0.90      0.90      6000\n",
      "       Dress       0.91      0.95      0.93      6000\n",
      "        Coat       0.90      0.86      0.88      6000\n",
      "      Sandal       0.99      0.97      0.98      6000\n",
      "       Shirt       0.79      0.82      0.81      6000\n",
      "     Sneaker       0.95      0.99      0.97      6000\n",
      "         Bag       0.99      0.98      0.99      6000\n",
      "  Ankle Boot       0.98      0.97      0.97      6000\n",
      "\n",
      "    accuracy                           0.93     60000\n",
      "   macro avg       0.93      0.93      0.93     60000\n",
      "weighted avg       0.93      0.93      0.93     60000\n",
      "\n"
     ]
    }
   ],
   "source": [
    "with torch.no_grad():\n",
    "\n",
    "    # set the model in evaluation mode\n",
    "    model.eval()\n",
    "\n",
    "    # initialize a list to store our predictions\n",
    "    y_pred = []\n",
    "    y_true = []\n",
    "    # loop over the test set\n",
    "    for (images, labels) in trainloader:\n",
    "\n",
    "        # send the input to the device\n",
    "        images = images.float().to(device)\n",
    "        y_true.extend(labels.cpu().numpy())\n",
    "        # make the predictions and add them to the list\n",
    "        output = model(images)\n",
    "        preds = output.argmax(axis=1).cpu().numpy()\n",
    "        y_pred.extend(preds)\n",
    "\n",
    "print (f'Accuracy:{accuracy_score(y_true , y_pred) : 0.4f}\\n')\n",
    "\n",
    "print(classification_report ( y_true, y_pred,\n",
    "                             target_names = class_names.values() ) )"
   ]
  },
  {
   "cell_type": "code",
   "execution_count": null,
   "metadata": {
    "colab": {
     "base_uri": "https://localhost:8080/",
     "height": 392
    },
    "executionInfo": {
     "elapsed": 331,
     "status": "ok",
     "timestamp": 1748770799431,
     "user": {
      "displayName": "Abhinav Pandey",
      "userId": "18226273223427787507"
     },
     "user_tz": -330
    },
    "id": "xOePLeR7nVK3",
    "outputId": "92bd28b5-45f2-482d-9133-27bdd38f9202"
   },
   "outputs": [
    {
     "data": {
      "image/png": "[encoded data removed]",
      "text/plain": [
       "<Figure size 400x400 with 1 Axes>"
      ]
     },
     "metadata": {},
     "output_type": "display_data"
    }
   ],
   "source": [
    "train_cm = confusion_matrix(y_true, y_pred)\n",
    "disp = ConfusionMatrixDisplay(confusion_matrix=train_cm, display_labels=[0, 1, 2, 3, 4, 5, 6, 7, 8, 9])\n",
    "fig, ax = plt.subplots(figsize = (4,4))\n",
    "disp.plot(ax =ax, cmap = 'Greens', colorbar=False);"
   ]
  },
  {
   "cell_type": "code",
   "execution_count": null,
   "metadata": {
    "colab": {
     "base_uri": "https://localhost:8080/"
    },
    "executionInfo": {
     "elapsed": 1987,
     "status": "ok",
     "timestamp": 1748770801422,
     "user": {
      "displayName": "Abhinav Pandey",
      "userId": "18226273223427787507"
     },
     "user_tz": -330
    },
    "id": "k1v8HthxnVIW",
    "outputId": "3c4717d5-99da-4bfe-de75-f9dfc7c356af"
   },
   "outputs": [
    {
     "name": "stdout",
     "output_type": "stream",
     "text": [
      "Accuracy: 0.9171\n",
      "\n",
      "              precision    recall  f1-score   support\n",
      "\n",
      " T-shirt/top       0.89      0.85      0.87      1000\n",
      "     Trouser       0.99      0.99      0.99      1000\n",
      "    Pullover       0.89      0.87      0.88      1000\n",
      "       Dress       0.90      0.95      0.92      1000\n",
      "        Coat       0.89      0.85      0.87      1000\n",
      "      Sandal       1.00      0.96      0.98      1000\n",
      "       Shirt       0.74      0.78      0.76      1000\n",
      "     Sneaker       0.93      0.98      0.96      1000\n",
      "         Bag       0.99      0.98      0.98      1000\n",
      "  Ankle Boot       0.97      0.97      0.97      1000\n",
      "\n",
      "    accuracy                           0.92     10000\n",
      "   macro avg       0.92      0.92      0.92     10000\n",
      "weighted avg       0.92      0.92      0.92     10000\n",
      "\n"
     ]
    }
   ],
   "source": [
    "with torch.no_grad():\n",
    "\n",
    "    # set the model in evaluation mode\n",
    "    model.eval()\n",
    "\n",
    "    # initialize a list to store our predictions\n",
    "    y_pred = []\n",
    "    y_true = []\n",
    "    incorect = {'images': [], 'y_true' : [], 'y_pred' : []}\n",
    "    # loop over the test set\n",
    "    for (images, labels) in testloader:\n",
    "\n",
    "        # send the input to the device\n",
    "        images = images.float().to(device)\n",
    "        # make the predictions and add them to the list\n",
    "        output = model(images)\n",
    "        preds = output.argmax(axis=1).cpu().numpy()\n",
    "        y_pred.extend(preds)\n",
    "        labels = labels.cpu().numpy()\n",
    "        y_true.extend(labels)\n",
    "\n",
    "        # collect incorrect samples\n",
    "        incorect['images'].extend(images[labels != preds].cpu())\n",
    "        incorect['y_true'].extend(labels[labels != preds])\n",
    "        incorect['y_pred'].extend(preds[labels != preds])\n",
    "\n",
    "print (f'Accuracy:{accuracy_score(y_true , y_pred) : 0.4f}\\n')\n",
    "\n",
    "print(classification_report ( y_true, y_pred,\n",
    "                             target_names = class_names.values() ) )"
   ]
  },
  {
   "cell_type": "code",
   "execution_count": null,
   "metadata": {
    "colab": {
     "base_uri": "https://localhost:8080/",
     "height": 392
    },
    "executionInfo": {
     "elapsed": 288,
     "status": "ok",
     "timestamp": 1748770801723,
     "user": {
      "displayName": "Abhinav Pandey",
      "userId": "18226273223427787507"
     },
     "user_tz": -330
    },
    "id": "V4daP0nynVGI",
    "outputId": "cf4237d1-7793-4d67-802a-2811e0aa68db"
   },
   "outputs": [
    {
     "data": {
      "image/png": "[encoded data removed]",
      "text/plain": [
       "<Figure size 400x400 with 1 Axes>"
      ]
     },
     "metadata": {},
     "output_type": "display_data"
    }
   ],
   "source": [
    "test_cm = confusion_matrix(y_true, y_pred)\n",
    "disp = ConfusionMatrixDisplay(confusion_matrix=train_cm, display_labels=[0, 1, 2, 3, 4, 5, 6, 7, 8, 9])\n",
    "fig, ax = plt.subplots(figsize = (4,4))\n",
    "disp.plot(ax =ax, cmap = 'Greens', colorbar=False);"
   ]
  },
  {
   "cell_type": "code",
   "execution_count": null,
   "metadata": {
    "id": "lPxn4xpNnVDd"
   },
   "outputs": [],
   "source": []
  }
 ],
 "metadata": {
  "accelerator": "GPU",
  "colab": {
   "gpuType": "T4",
   "provenance": [
    {
     "file_id": "11bEmwr3ObdxQKLSidN_TnCpF8LnjK_OR",
     "timestamp": 1748700501729
    },
    {
     "file_id": "1696TqMNpJu44eK_jXy3_zFlN4706dlWj",
     "timestamp": 1748249933522
    },
    {
     "file_id": "13DEW7lPxM_0dL-L5JO7-CAQwK045zpqz",
     "timestamp": 1748241614039
    },
    {
     "file_id": "18LWiPGuCi_suKTu3WX6ofSJT2JVtolV4",
     "timestamp": 1748240559507
    },
    {
     "file_id": "1xFSzSxwdoFohq4qAlMiZRZ1GfUV0n70v",
     "timestamp": 1748238993154
    },
    {
     "file_id": "1Xh_4zM3hRx5JoWUFbi26FL5ZfdkD7iLr",
     "timestamp": 1748235967530
    },
    {
     "file_id": "1zCbC1uQJjcS3HVb0WtHhxOjLWN-W8nXH",
     "timestamp": 1748074845469
    }
   ]
  },
  "kernelspec": {
   "display_name": "Python 3",
   "name": "python3"
  },
  "language_info": {
   "codemirror_mode": {
    "name": "ipython",
    "version": 3
   },
   "file_extension": ".py",
   "mimetype": "text/x-python",
   "name": "python",
   "nbconvert_exporter": "python",
   "pygments_lexer": "ipython3",
   "version": "3.12.3"
  }
 },
 "nbformat": 4,
 "nbformat_minor": 0
}
